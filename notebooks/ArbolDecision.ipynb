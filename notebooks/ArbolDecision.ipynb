{
  "nbformat": 4,
  "nbformat_minor": 0,
  "metadata": {
    "colab": {
      "provenance": [],
      "authorship_tag": "ABX9TyM68Pb1D0Xa21bQjLwST9PY",
      "include_colab_link": true
    },
    "kernelspec": {
      "name": "python3",
      "display_name": "Python 3"
    },
    "language_info": {
      "name": "python"
    }
  },
  "cells": [
    {
      "cell_type": "markdown",
      "metadata": {
        "id": "view-in-github",
        "colab_type": "text"
      },
      "source": [
        "<a href=\"https://colab.research.google.com/github/eliam22/Modelos/blob/main/ArbolDecision.ipynb\" target=\"_parent\"><img src=\"https://colab.research.google.com/assets/colab-badge.svg\" alt=\"Open In Colab\"/></a>"
      ]
    },
    {
      "cell_type": "code",
      "source": [
        "import pandas as pd\n",
        "from sklearn.model_selection import train_test_split\n",
        "from sklearn.preprocessing import StandardScaler\n",
        "from sklearn.ensemble import RandomForestClassifier\n",
        "from sklearn.metrics import accuracy_score, confusion_matrix, classification_report\n",
        "from imblearn.over_sampling import SMOTE\n",
        "from google.colab import drive\n",
        "drive.mount('/content/drive')\n",
        "# Leer los datos desde un archivo CSV\n",
        "df = pd.read_csv('/content/drive/MyDrive/Clasificación_supervisada/cleaned_star_data.csv', header=0)\n",
        "\n",
        "# Mostrar las columnas y las primeras filas para entender mejor los datos\n",
        "print(\"Columnas actuales:\", df.columns.tolist())\n",
        "print(\"Primeras filas del DataFrame:\")\n",
        "print(df.head())\n",
        "\n",
        "# Split dataset into features and target variable\n",
        "feature_cols = ['Temperature (K)', 'Luminosity(L/Lo)', 'Radius(R/Ro)', 'Absolute magnitude(Mv)']\n",
        "X = df[feature_cols]  # Features\n",
        "y = df['Star type']   # Target variable\n",
        "\n",
        "# Eliminar filas con valores NaN\n",
        "X = X.dropna()\n",
        "y = y[X.index]  # Asegúrate de que 'y' corresponda a 'X'\n",
        "\n",
        "# Convertir todas las características a tipo numérico, forzando los errores a NaN\n",
        "X = X.apply(pd.to_numeric, errors='coerce')\n",
        "\n",
        "# Verificar si hay más valores NaN después de la conversión\n",
        "print(\"Valores NaN en las características:\", X.isna().sum())\n",
        "\n",
        "# Eliminar filas con valores NaN resultantes de la conversión\n",
        "X = X.dropna()\n",
        "y = y[X.index]  # Asegúrate de que 'y' corresponda a 'X' después de eliminar NaN\n",
        "\n",
        "# Normalizar características\n",
        "scaler = StandardScaler()\n",
        "X_scaled = scaler.fit_transform(X)\n",
        "\n",
        "# Balancear clases usando SMOTE\n",
        "smote = SMOTE(random_state=42)\n",
        "X_resampled, y_resampled = smote.fit_resample(X_scaled, y)\n",
        "\n",
        "# Dividir el conjunto de datos\n",
        "X_train, X_test, y_train, y_test = train_test_split(X_resampled, y_resampled, test_size=0.3, random_state=42, stratify=y_resampled)\n",
        "\n",
        "# Entrenar el modelo Random Forest\n",
        "clf = RandomForestClassifier(random_state=42)\n",
        "clf.fit(X_train, y_train)\n",
        "\n",
        "# Predecir\n",
        "y_pred = clf.predict(X_test)\n",
        "\n",
        "# Imprimir resultados\n",
        "print(\"Accuracy:\", accuracy_score(y_test, y_pred))\n",
        "print(\"Matriz de confusión:\")\n",
        "print(confusion_matrix(y_test, y_pred))\n",
        "print(\"\\nInforme de clasificación:\")\n",
        "print(classification_report(y_test, y_pred))\n",
        "\n",
        "# Importancia de las características\n",
        "importances = clf.feature_importances_\n",
        "importance_df = pd.DataFrame({'Feature': feature_cols, 'Importance': importances})\n",
        "print(\"\\nImportancia de las características:\")\n",
        "print(importance_df.sort_values(by='Importance', ascending=False))\n"
      ],
      "metadata": {
        "colab": {
          "base_uri": "https://localhost:8080/"
        },
        "id": "PtPXcO0o4E6W",
        "outputId": "3d86508d-334d-4fde-93de-055e3efd8c95"
      },
      "execution_count": 7,
      "outputs": [
        {
          "output_type": "stream",
          "name": "stdout",
          "text": [
            "Drive already mounted at /content/drive; to attempt to forcibly remount, call drive.mount(\"/content/drive\", force_remount=True).\n",
            "Columnas actuales: ['Temperature (K)', 'Luminosity(L/Lo)', 'Radius(R/Ro)', 'Absolute magnitude(Mv)', 'Star type', 'Star color', 'Spectral Class']\n",
            "Primeras filas del DataFrame:\n",
            "  Temperature (K) Luminosity(L/Lo) Radius(R/Ro) Absolute magnitude(Mv)  \\\n",
            "0             NaN              NaN          NaN                    NaN   \n",
            "1            3042           0.0005       0.1542                   16.6   \n",
            "2            2600           0.0003        0.102                   18.7   \n",
            "3            2800           0.0002                               16.65   \n",
            "4            1939         0.000138        0.103                  20.06   \n",
            "\n",
            "   Star type Star color Spectral Class  \n",
            "0        NaN        NaN            NaN  \n",
            "1        0.0        Red              M  \n",
            "2        0.0        Red              M  \n",
            "3        0.0        Red              M  \n",
            "4        0.0        Red              M  \n",
            "Valores NaN en las características: Temperature (K)           2\n",
            "Luminosity(L/Lo)          6\n",
            "Radius(R/Ro)              7\n",
            "Absolute magnitude(Mv)    5\n",
            "dtype: int64\n",
            "Accuracy: 1.0\n",
            "Matriz de confusión:\n",
            "[[11  0  0  0  0  0]\n",
            " [ 0 12  0  0  0  0]\n",
            " [ 0  0 12  0  0  0]\n",
            " [ 0  0  0 12  0  0]\n",
            " [ 0  0  0  0 12  0]\n",
            " [ 0  0  0  0  0 12]]\n",
            "\n",
            "Informe de clasificación:\n",
            "              precision    recall  f1-score   support\n",
            "\n",
            "         0.0       1.00      1.00      1.00        11\n",
            "         1.0       1.00      1.00      1.00        12\n",
            "         2.0       1.00      1.00      1.00        12\n",
            "         3.0       1.00      1.00      1.00        12\n",
            "         4.0       1.00      1.00      1.00        12\n",
            "         5.0       1.00      1.00      1.00        12\n",
            "\n",
            "    accuracy                           1.00        71\n",
            "   macro avg       1.00      1.00      1.00        71\n",
            "weighted avg       1.00      1.00      1.00        71\n",
            "\n",
            "\n",
            "Importancia de las características:\n",
            "                  Feature  Importance\n",
            "2            Radius(R/Ro)    0.431411\n",
            "3  Absolute magnitude(Mv)    0.378662\n",
            "1        Luminosity(L/Lo)    0.113823\n",
            "0         Temperature (K)    0.076105\n"
          ]
        }
      ]
    }
  ]
}